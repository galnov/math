{
 "cells": [
  {
   "cell_type": "code",
   "execution_count": null,
   "id": "54e9adec-b7cd-49d7-95c0-b77c96ccf56a",
   "metadata": {},
   "outputs": [],
   "source": [
    "import numpy as np\n",
    "import matplotlib.pyplot as plt\n",
    "#plt.style.use('seaborn-poster')"
   ]
  },
  {
   "cell_type": "code",
   "execution_count": null,
   "id": "ea9c32b7-3603-4654-b197-f2bc0c469f84",
   "metadata": {},
   "outputs": [],
   "source": [
    "fig = plt.figure(figsize = (10,10))\n",
    "ax = plt.axes(projection='3d')\n",
    "plt.show()"
   ]
  },
  {
   "cell_type": "code",
   "execution_count": null,
   "id": "b22836f5-f6f6-4689-8225-d7cd91bbb2d4",
   "metadata": {},
   "outputs": [],
   "source": [
    "fig = plt.figure(figsize = (8,8))\n",
    "max = 20*np.pi\n",
    "ax = plt.axes(projection='3d')\n",
    "ax.grid()\n",
    "t = np.arange(-max, max, np.pi/50)\n",
    "x = np.sin(t)\n",
    "y = np.cos(t)\n",
    "\n",
    "ax.plot3D(x*np.sqrt(max-abs(t)), y*np.sqrt(max-abs(t)), t)\n",
    "ax.set_title('3D Parametric Plot')\n",
    "\n",
    "# Set axes label\n",
    "ax.set_xlabel('x', labelpad=20)\n",
    "ax.set_ylabel('y', labelpad=20)\n",
    "ax.set_zlabel('t', labelpad=20)\n",
    "\n",
    "plt.show()"
   ]
  },
  {
   "cell_type": "code",
   "execution_count": null,
   "id": "391bffda-249a-49b4-bd08-01520082f7b3",
   "metadata": {},
   "outputs": [],
   "source": []
  }
 ],
 "metadata": {
  "kernelspec": {
   "display_name": "Python 3 (ipykernel)",
   "language": "python",
   "name": "python3"
  },
  "language_info": {
   "codemirror_mode": {
    "name": "ipython",
    "version": 3
   },
   "file_extension": ".py",
   "mimetype": "text/x-python",
   "name": "python",
   "nbconvert_exporter": "python",
   "pygments_lexer": "ipython3",
   "version": "3.11.5"
  }
 },
 "nbformat": 4,
 "nbformat_minor": 5
}
